{
  "nbformat": 4,
  "nbformat_minor": 0,
  "metadata": {
    "colab": {
      "provenance": [],
      "authorship_tag": "ABX9TyMyut245P+Th4C17QQ8otvu",
      "include_colab_link": true
    },
    "kernelspec": {
      "name": "python3",
      "display_name": "Python 3"
    },
    "language_info": {
      "name": "python"
    }
  },
  "cells": [
    {
      "cell_type": "markdown",
      "metadata": {
        "id": "view-in-github",
        "colab_type": "text"
      },
      "source": [
        "<a href=\"https://colab.research.google.com/github/SinSham/BasicPython-Assignment/blob/main/PythonBasics_Assignment.ipynb\" target=\"_parent\"><img src=\"https://colab.research.google.com/assets/colab-badge.svg\" alt=\"Open In Colab\"/></a>"
      ]
    },
    {
      "cell_type": "markdown",
      "source": [
        "WAP to add 50 and 60 to L = [11, 12, 13, 14]"
      ],
      "metadata": {
        "id": "yqOR6vy5a0P9"
      }
    },
    {
      "cell_type": "code",
      "execution_count": null,
      "metadata": {
        "colab": {
          "base_uri": "https://localhost:8080/"
        },
        "id": "67yQoDuzNW60",
        "outputId": "ce9d658d-6a52-4c43-b859-5a5ed1fa844c"
      },
      "outputs": [
        {
          "output_type": "execute_result",
          "data": {
            "text/plain": [
              "[11, 12, 13, 14, 50, 60]"
            ]
          },
          "metadata": {},
          "execution_count": 10
        }
      ],
      "source": [
        "L = [11, 12, 13, 14]\n",
        "L1 = [50, 60]\n",
        "L.extend(L1)\n",
        "L\n",
        "# L.sort\n",
        "# L.sort(reverse = True)\n",
        "# L\n"
      ]
    },
    {
      "cell_type": "markdown",
      "source": [
        "remove 11 and 13 from L"
      ],
      "metadata": {
        "id": "gcBmvRBwaswx"
      }
    },
    {
      "cell_type": "code",
      "source": [
        "del L[0]\n",
        "del L[1] #because after the deletion of 11, 13 comes at index 1\n",
        "L"
      ],
      "metadata": {
        "colab": {
          "base_uri": "https://localhost:8080/"
        },
        "id": "UxF7QXhDbkV4",
        "outputId": "ed5093bd-e4fd-43d6-8503-ac2334c8f9f5"
      },
      "execution_count": null,
      "outputs": [
        {
          "output_type": "execute_result",
          "data": {
            "text/plain": [
              "[12, 14, 50, 60]"
            ]
          },
          "metadata": {},
          "execution_count": 11
        }
      ]
    },
    {
      "cell_type": "markdown",
      "source": [
        "sorting L in ascending order"
      ],
      "metadata": {
        "id": "X8GGQiFqcAum"
      }
    },
    {
      "cell_type": "code",
      "source": [
        "L.sort()\n",
        "L"
      ],
      "metadata": {
        "colab": {
          "base_uri": "https://localhost:8080/"
        },
        "id": "CS7Wp69ecGvD",
        "outputId": "ce39db94-5f36-4ca0-f511-3a4b513e1de1"
      },
      "execution_count": null,
      "outputs": [
        {
          "output_type": "execute_result",
          "data": {
            "text/plain": [
              "[12, 14, 50, 60]"
            ]
          },
          "metadata": {},
          "execution_count": 12
        }
      ]
    },
    {
      "cell_type": "markdown",
      "source": [
        "sorting L in descending order"
      ],
      "metadata": {
        "id": "BmAjJatYcJ-6"
      }
    },
    {
      "cell_type": "code",
      "source": [
        "L.sort(reverse = True)\n",
        "L"
      ],
      "metadata": {
        "colab": {
          "base_uri": "https://localhost:8080/"
        },
        "id": "EKBSqYUycP3W",
        "outputId": "8f9a9821-0182-48d4-a568-ffec9f75a1ac"
      },
      "execution_count": null,
      "outputs": [
        {
          "output_type": "execute_result",
          "data": {
            "text/plain": [
              "[60, 50, 14, 12]"
            ]
          },
          "metadata": {},
          "execution_count": 13
        }
      ]
    },
    {
      "cell_type": "markdown",
      "source": [
        "searching for 13 in L"
      ],
      "metadata": {
        "id": "yBEko3d7cbGy"
      }
    },
    {
      "cell_type": "code",
      "source": [
        "if(13 in L):\n",
        "  print('present')\n",
        "else:\n",
        "  print('Not present')\n",
        "  "
      ],
      "metadata": {
        "colab": {
          "base_uri": "https://localhost:8080/"
        },
        "id": "eMLx4UC1cdV2",
        "outputId": "52ab25d0-423e-45c8-fa04-8241ca2e774d"
      },
      "execution_count": null,
      "outputs": [
        {
          "output_type": "stream",
          "name": "stdout",
          "text": [
            "Not present\n"
          ]
        }
      ]
    },
    {
      "cell_type": "markdown",
      "source": [
        "counting the number of elements in L"
      ],
      "metadata": {
        "id": "JRBiUEAPdQru"
      }
    },
    {
      "cell_type": "code",
      "source": [
        "print(len(L))"
      ],
      "metadata": {
        "colab": {
          "base_uri": "https://localhost:8080/"
        },
        "id": "nlUlQkXzdqW2",
        "outputId": "ac9b9cf9-630c-4348-dd14-11f0e554528b"
      },
      "execution_count": null,
      "outputs": [
        {
          "output_type": "stream",
          "name": "stdout",
          "text": [
            "4\n"
          ]
        }
      ]
    },
    {
      "cell_type": "markdown",
      "source": [
        "sum of all elements in L"
      ],
      "metadata": {
        "id": "dApvOVjrd0xo"
      }
    },
    {
      "cell_type": "code",
      "source": [
        "print(sum(L))"
      ],
      "metadata": {
        "colab": {
          "base_uri": "https://localhost:8080/"
        },
        "id": "ZHpzktpXd3q1",
        "outputId": "6d3aa066-c552-4e33-8040-021e853dce23"
      },
      "execution_count": null,
      "outputs": [
        {
          "output_type": "stream",
          "name": "stdout",
          "text": [
            "136\n"
          ]
        }
      ]
    },
    {
      "cell_type": "markdown",
      "source": [
        "sum of all odd numbers in L"
      ],
      "metadata": {
        "id": "IJKuHGMHeJs-"
      }
    },
    {
      "cell_type": "code",
      "source": [
        "odd_sum = 0\n",
        "for i in L:\n",
        "  if i%2 != 0:\n",
        "    odd_sum += i\n",
        "print(odd_sum)"
      ],
      "metadata": {
        "colab": {
          "base_uri": "https://localhost:8080/"
        },
        "id": "6A9EpZ1AeM4d",
        "outputId": "b4ee3a2a-da22-408b-a261-7d09a7f1a8c7"
      },
      "execution_count": null,
      "outputs": [
        {
          "output_type": "stream",
          "name": "stdout",
          "text": [
            "0\n"
          ]
        }
      ]
    },
    {
      "cell_type": "markdown",
      "source": [
        "sum of all even numbers in L"
      ],
      "metadata": {
        "id": "6UT8M6w7hFEy"
      }
    },
    {
      "cell_type": "code",
      "source": [
        "even_sum = 0\n",
        "for i in L:\n",
        "  if i%2 == 0:\n",
        "    even_sum += i\n",
        "print(even_sum)"
      ],
      "metadata": {
        "colab": {
          "base_uri": "https://localhost:8080/"
        },
        "id": "JPe1GbakhH7P",
        "outputId": "64174fe8-1f02-4958-8357-54bb6d23739c"
      },
      "execution_count": null,
      "outputs": [
        {
          "output_type": "stream",
          "name": "stdout",
          "text": [
            "136\n"
          ]
        }
      ]
    },
    {
      "cell_type": "markdown",
      "source": [
        "sum of prime numbers. For a number to be prime, it shouldn't be less than 2 and also it shouldn't be divisible by any number between 2 and the square  root of number itself."
      ],
      "metadata": {
        "id": "INNe2XT1haH2"
      }
    },
    {
      "cell_type": "code",
      "source": [
        "# L has no prime numbers so inserting few prime numbers in L\n",
        "# L.append(23)\n",
        "# L.append(19)\n",
        "\n",
        "print(L)\n",
        "\n",
        "def is_prime(num):\n",
        "  if num<2:\n",
        "    return False\n",
        "\n",
        "  for i in range(2, int(num**0.5) + 1):\n",
        "    if num%i == 0:\n",
        "      return False\n",
        "\n",
        "  return True\n",
        "\n",
        "prime_sum = 0\n",
        "\n",
        "for num in L:\n",
        "  if is_prime(num):\n",
        "    prime_sum += num\n",
        "\n",
        "print(prime_sum)\n"
      ],
      "metadata": {
        "colab": {
          "base_uri": "https://localhost:8080/"
        },
        "id": "uJnoKcx4hPe_",
        "outputId": "d42d65eb-96d5-4133-834b-d46ef1656efd"
      },
      "execution_count": null,
      "outputs": [
        {
          "output_type": "stream",
          "name": "stdout",
          "text": [
            "[60, 50, 14, 12, 7, 23, 19]\n",
            "49\n"
          ]
        }
      ]
    },
    {
      "cell_type": "markdown",
      "source": [
        "clearing the list"
      ],
      "metadata": {
        "id": "D5c1NpTrlE47"
      }
    },
    {
      "cell_type": "code",
      "source": [
        "L = []\n",
        "#L.clear() is another method to clear the list\n",
        "L"
      ],
      "metadata": {
        "colab": {
          "base_uri": "https://localhost:8080/"
        },
        "id": "kTIKmy2olWgr",
        "outputId": "8c1c6aa1-c6a3-40e1-f46d-e4b9df00001f"
      },
      "execution_count": null,
      "outputs": [
        {
          "output_type": "execute_result",
          "data": {
            "text/plain": [
              "[]"
            ]
          },
          "metadata": {},
          "execution_count": 40
        }
      ]
    },
    {
      "cell_type": "markdown",
      "source": [
        "deleting List"
      ],
      "metadata": {
        "id": "hSy7eVgzlitN"
      }
    },
    {
      "cell_type": "code",
      "source": [
        "del L"
      ],
      "metadata": {
        "id": "Iw3bf3JNllmh"
      },
      "execution_count": null,
      "outputs": []
    },
    {
      "cell_type": "markdown",
      "source": [
        "defining a dictionary and adding new entry"
      ],
      "metadata": {
        "id": "DfIf3Dv0lwAq"
      }
    },
    {
      "cell_type": "code",
      "source": [
        "D = {\n",
        "     1 : 5.6,\n",
        "     2 : 7.8,\n",
        "     3 : 6.6,\n",
        "     4 : 8.7,\n",
        "     5 : 7.7\n",
        "}\n",
        "\n",
        "D[8] = 8.8\n",
        "D"
      ],
      "metadata": {
        "colab": {
          "base_uri": "https://localhost:8080/"
        },
        "id": "UTd-mIGVlx9s",
        "outputId": "a853a3d2-f0d2-425d-dd45-8dadbe523a22"
      },
      "execution_count": null,
      "outputs": [
        {
          "output_type": "execute_result",
          "data": {
            "text/plain": [
              "{1: 5.6, 2: 7.8, 3: 6.6, 4: 8.7, 5: 7.7, 8: 8.8}"
            ]
          },
          "metadata": {},
          "execution_count": 43
        }
      ]
    },
    {
      "cell_type": "markdown",
      "source": [
        "deleting entry from dictionary"
      ],
      "metadata": {
        "id": "RQLPbl40nMyP"
      }
    },
    {
      "cell_type": "code",
      "source": [
        "# removing key = 2\n",
        "del D[2]\n",
        "D"
      ],
      "metadata": {
        "colab": {
          "base_uri": "https://localhost:8080/"
        },
        "id": "_A6KCtC2nL4x",
        "outputId": "5ed6227a-eddf-4883-d5a7-79f5e0e1b369"
      },
      "execution_count": null,
      "outputs": [
        {
          "output_type": "execute_result",
          "data": {
            "text/plain": [
              "{1: 5.6, 3: 6.6, 4: 8.7, 5: 7.7, 8: 8.8}"
            ]
          },
          "metadata": {},
          "execution_count": 44
        }
      ]
    },
    {
      "cell_type": "markdown",
      "source": [
        "to check if key is present in dictionary"
      ],
      "metadata": {
        "id": "lBfUbUWDnapa"
      }
    },
    {
      "cell_type": "code",
      "source": [
        "print('Is key 6 present ?', 6 in D)"
      ],
      "metadata": {
        "colab": {
          "base_uri": "https://localhost:8080/"
        },
        "id": "j25fNqpCniKW",
        "outputId": "1f92db76-3ede-4b71-a7e4-edecb49b30ef"
      },
      "execution_count": null,
      "outputs": [
        {
          "output_type": "stream",
          "name": "stdout",
          "text": [
            "Is key 6 present ? False\n"
          ]
        }
      ]
    },
    {
      "cell_type": "markdown",
      "source": [
        "counting the number of elements in dictionary"
      ],
      "metadata": {
        "id": "kdE40Jk-n1zm"
      }
    },
    {
      "cell_type": "code",
      "source": [
        "print(len(D))"
      ],
      "metadata": {
        "colab": {
          "base_uri": "https://localhost:8080/"
        },
        "id": "pKQg11KNoHoX",
        "outputId": "1587f37f-0d27-4fc9-b795-47e567078d6c"
      },
      "execution_count": null,
      "outputs": [
        {
          "output_type": "stream",
          "name": "stdout",
          "text": [
            "5\n"
          ]
        }
      ]
    },
    {
      "cell_type": "markdown",
      "source": [
        "sum of all values present in dictionary"
      ],
      "metadata": {
        "id": "0mM3HS9moK5n"
      }
    },
    {
      "cell_type": "code",
      "source": [
        "value_sum = 0\n",
        "for i in D.values():\n",
        "  value_sum += i\n",
        "\n",
        "print(value_sum)"
      ],
      "metadata": {
        "colab": {
          "base_uri": "https://localhost:8080/"
        },
        "id": "AIgOBI9GoQQI",
        "outputId": "030495c7-73b0-45f1-bd3e-2a5c2d90ba10"
      },
      "execution_count": null,
      "outputs": [
        {
          "output_type": "stream",
          "name": "stdout",
          "text": [
            "37.4\n"
          ]
        }
      ]
    },
    {
      "cell_type": "markdown",
      "source": [
        "updating values in dictionary"
      ],
      "metadata": {
        "id": "7gdwHC1hrIEo"
      }
    },
    {
      "cell_type": "code",
      "source": [
        "D[3] = 7.1\n",
        "D"
      ],
      "metadata": {
        "colab": {
          "base_uri": "https://localhost:8080/"
        },
        "id": "fVj0YytZrQa5",
        "outputId": "3292e8cf-a7f4-46c2-ca58-102e1e0868cb"
      },
      "execution_count": null,
      "outputs": [
        {
          "output_type": "execute_result",
          "data": {
            "text/plain": [
              "{1: 5.6, 3: 7.1, 4: 8.7, 5: 7.7, 8: 8.8}"
            ]
          },
          "metadata": {},
          "execution_count": 57
        }
      ]
    },
    {
      "cell_type": "markdown",
      "source": [
        "clearing the dictionary"
      ],
      "metadata": {
        "id": "RgA2BZdjrc30"
      }
    },
    {
      "cell_type": "code",
      "source": [
        "D.clear()\n",
        "D"
      ],
      "metadata": {
        "colab": {
          "base_uri": "https://localhost:8080/"
        },
        "id": "a-YeNWG1re7o",
        "outputId": "6b0c08b4-35ea-4c12-caef-81978bfcf57c"
      },
      "execution_count": null,
      "outputs": [
        {
          "output_type": "execute_result",
          "data": {
            "text/plain": [
              "{}"
            ]
          },
          "metadata": {},
          "execution_count": 59
        }
      ]
    },
    {
      "cell_type": "markdown",
      "source": [
        "defining a set and adding elements to it\n",
        "\n"
      ],
      "metadata": {
        "id": "MZW6HsEnr918"
      }
    },
    {
      "cell_type": "code",
      "source": [
        "S1 = {10, 20, 30, 40, 50, 60}\n",
        "S2 = {40, 50, 60, 70, 80, 90}\n",
        "\n",
        "S1.add(55)\n",
        "S1.add(66)\n",
        "S1\n",
        "# it is not necessary that elements will be added to the last, they can be inserted anywhere."
      ],
      "metadata": {
        "colab": {
          "base_uri": "https://localhost:8080/"
        },
        "id": "3WcUZimesABd",
        "outputId": "e9b1e6f2-7cba-48c7-f8d2-0b59bea0c604"
      },
      "execution_count": null,
      "outputs": [
        {
          "output_type": "execute_result",
          "data": {
            "text/plain": [
              "{10, 20, 30, 40, 50, 55, 60, 66}"
            ]
          },
          "metadata": {},
          "execution_count": 67
        }
      ]
    },
    {
      "cell_type": "markdown",
      "source": [
        "removing elements from set"
      ],
      "metadata": {
        "id": "pJ-X-ZL7vI6a"
      }
    },
    {
      "cell_type": "code",
      "source": [
        "S1.remove(10)\n",
        "S1.remove(30)\n",
        "S1"
      ],
      "metadata": {
        "colab": {
          "base_uri": "https://localhost:8080/"
        },
        "id": "qSkITbU1vkd8",
        "outputId": "56b557b5-f59f-4260-cbe4-50e8ee86c7db"
      },
      "execution_count": null,
      "outputs": [
        {
          "output_type": "execute_result",
          "data": {
            "text/plain": [
              "{20, 40, 50, 55, 60, 66}"
            ]
          },
          "metadata": {},
          "execution_count": 68
        }
      ]
    },
    {
      "cell_type": "markdown",
      "source": [
        "Checking if element is present in set"
      ],
      "metadata": {
        "id": "FGXuCNK3vr5D"
      }
    },
    {
      "cell_type": "code",
      "source": [
        "print(40 in S1)"
      ],
      "metadata": {
        "colab": {
          "base_uri": "https://localhost:8080/"
        },
        "id": "wNMwpYrxv2M8",
        "outputId": "25b5f750-2f05-4fe2-8c60-3a0d9b39088c"
      },
      "execution_count": null,
      "outputs": [
        {
          "output_type": "stream",
          "name": "stdout",
          "text": [
            "True\n"
          ]
        }
      ]
    },
    {
      "cell_type": "markdown",
      "source": [
        "union of S1 and S2"
      ],
      "metadata": {
        "id": "OgMSsiJIwCx1"
      }
    },
    {
      "cell_type": "code",
      "source": [
        "S_union = S1|S2\n",
        "S_union"
      ],
      "metadata": {
        "colab": {
          "base_uri": "https://localhost:8080/"
        },
        "id": "asPohrEAwFKq",
        "outputId": "f829c68e-c82a-4051-c11b-83cf258952cc"
      },
      "execution_count": null,
      "outputs": [
        {
          "output_type": "execute_result",
          "data": {
            "text/plain": [
              "{20, 40, 50, 55, 60, 66, 70, 80, 90}"
            ]
          },
          "metadata": {},
          "execution_count": 74
        }
      ]
    },
    {
      "cell_type": "markdown",
      "source": [
        "intersection of S1 and S2"
      ],
      "metadata": {
        "id": "jrUCgDS6wcbp"
      }
    },
    {
      "cell_type": "code",
      "source": [
        "S_intersection = S1 & S2\n",
        "S_intersection"
      ],
      "metadata": {
        "colab": {
          "base_uri": "https://localhost:8080/"
        },
        "id": "5ZBCtHWKwfK9",
        "outputId": "e9c4e398-d5fe-4537-a5c0-0fe8e80dff47"
      },
      "execution_count": null,
      "outputs": [
        {
          "output_type": "execute_result",
          "data": {
            "text/plain": [
              "{40, 50, 60}"
            ]
          },
          "metadata": {},
          "execution_count": 73
        }
      ]
    },
    {
      "cell_type": "markdown",
      "source": [
        "Finding S1-S2"
      ],
      "metadata": {
        "id": "oVWWmP_jw7j4"
      }
    },
    {
      "cell_type": "code",
      "source": [
        "S1_only = S1-S2\n",
        "S1_only"
      ],
      "metadata": {
        "colab": {
          "base_uri": "https://localhost:8080/"
        },
        "id": "OTasI7yAw69b",
        "outputId": "ad454d88-5d1f-44f3-9ae4-21b9366ae45b"
      },
      "execution_count": null,
      "outputs": [
        {
          "output_type": "execute_result",
          "data": {
            "text/plain": [
              "{20, 55, 66}"
            ]
          },
          "metadata": {},
          "execution_count": 76
        }
      ]
    },
    {
      "cell_type": "markdown",
      "source": [
        "**To print 100 random strings of length between 6 and 8**"
      ],
      "metadata": {
        "id": "8xeBTd-k2I3c"
      }
    },
    {
      "cell_type": "code",
      "source": [
        "import random as r\n",
        "import string as s\n",
        "for i in range(1, 100):\n",
        "  length = r.randint(6,8)\n",
        "  gen_string = (r.sample(s.ascii_letters, length))\n",
        "  gen_string = \"\".join(gen_string)\n",
        "  print(gen_string)"
      ],
      "metadata": {
        "colab": {
          "base_uri": "https://localhost:8080/"
        },
        "id": "CwMr7jj82WjM",
        "outputId": "6524a39d-5232-4897-ee70-73f46385b03d"
      },
      "execution_count": null,
      "outputs": [
        {
          "output_type": "stream",
          "name": "stdout",
          "text": [
            "qmnAQYPV\n",
            "BxqutJya\n",
            "dLpqcJD\n",
            "ucxCXiD\n",
            "bMXLVmFu\n",
            "UtmOwE\n",
            "DiIAqsM\n",
            "BJSGmAil\n",
            "fvhHnC\n",
            "pAxejBH\n",
            "jvbrTKRI\n",
            "ZSTmjxE\n",
            "Abflcx\n",
            "SIOQhKAv\n",
            "npfMRqxV\n",
            "aDLdvz\n",
            "wfqTuob\n",
            "NGTkShRv\n",
            "HbnipW\n",
            "sgBmMqk\n",
            "rWpHSvb\n",
            "KEVeMCh\n",
            "SForjVc\n",
            "XNwrFV\n",
            "flgpScD\n",
            "vCklZQai\n",
            "dIhCtE\n",
            "iodSMf\n",
            "LVRxgpr\n",
            "NovkifUe\n",
            "KofTUJqN\n",
            "wLksnGQ\n",
            "pxXbaNE\n",
            "tUoyQNq\n",
            "vHIqiCMx\n",
            "uHTJzg\n",
            "rdkYyo\n",
            "INPHYo\n",
            "iZeGaOk\n",
            "xzrcjvKR\n",
            "sDhYleU\n",
            "VIaRKcAy\n",
            "WylvFB\n",
            "TSbCqf\n",
            "ABZiRX\n",
            "VCbNBuP\n",
            "LsOpwjBm\n",
            "OLwJAM\n",
            "HLQrJXjk\n",
            "zPaviQbF\n",
            "iGphOzZ\n",
            "kGVeQq\n",
            "nVobPC\n",
            "YpgndEwt\n",
            "mWthbcME\n",
            "xrIFMg\n",
            "XRIVUOc\n",
            "BsopPj\n",
            "OJvQaXUj\n",
            "QvpbXw\n",
            "utwYKHP\n",
            "pdjWQNfq\n",
            "zjQbgd\n",
            "XbmBDKf\n",
            "dGxceQ\n",
            "pgxKNVz\n",
            "LyknrHVt\n",
            "BzdyxgZu\n",
            "qGMmFK\n",
            "gOjuoAY\n",
            "BFdSVM\n",
            "KzcfRj\n",
            "XAqbCfG\n",
            "XRqHLOU\n",
            "nyfZozjC\n",
            "eGSlous\n",
            "IbPvAVh\n",
            "YLcDjGm\n",
            "JIqkOPZW\n",
            "CRgUkOQs\n",
            "CgyBklQH\n",
            "buwHmKUv\n",
            "ypkNzEF\n",
            "iXTAEhD\n",
            "eIxEyBRM\n",
            "RJNcyY\n",
            "fhbocFUY\n",
            "VHLCxhM\n",
            "NjQubYe\n",
            "henSRfFo\n",
            "HcqtNh\n",
            "yiwqbe\n",
            "PpHQojN\n",
            "SRpcJsG\n",
            "nSuKMI\n",
            "byWdXKk\n",
            "AGcOHDmf\n",
            "TibZQPGz\n",
            "OtgKzcRQ\n"
          ]
        }
      ]
    },
    {
      "cell_type": "markdown",
      "source": [
        "**to print all prime numbers between 600 and 800**"
      ],
      "metadata": {
        "id": "bcduEoGa58ik"
      }
    },
    {
      "cell_type": "code",
      "source": [
        "def is_prime(num):\n",
        "  if num<2:\n",
        "    return False\n",
        "\n",
        "  for j in range(2, int(num**0.5) +1):\n",
        "    if (num%j) == 0:\n",
        "      return False\n",
        "  return True\n",
        "\n",
        "\n",
        "for i in range(600, 801):\n",
        "  if (is_prime(i)):\n",
        "    print(i)"
      ],
      "metadata": {
        "colab": {
          "base_uri": "https://localhost:8080/"
        },
        "id": "fRhMN5hZ57y_",
        "outputId": "fcb000d3-375e-4c9b-a3f2-28aa634102a4"
      },
      "execution_count": null,
      "outputs": [
        {
          "output_type": "stream",
          "name": "stdout",
          "text": [
            "601\n",
            "607\n",
            "613\n",
            "617\n",
            "619\n",
            "631\n",
            "641\n",
            "643\n",
            "647\n",
            "653\n",
            "659\n",
            "661\n",
            "673\n",
            "677\n",
            "683\n",
            "691\n",
            "701\n",
            "709\n",
            "719\n",
            "727\n",
            "733\n",
            "739\n",
            "743\n",
            "751\n",
            "757\n",
            "761\n",
            "769\n",
            "773\n",
            "787\n",
            "797\n"
          ]
        }
      ]
    },
    {
      "cell_type": "markdown",
      "source": [
        "**To print all numbers between 100 and 1000 that are divisible by 7 and 9**"
      ],
      "metadata": {
        "id": "0IaytPWR--3X"
      }
    },
    {
      "cell_type": "code",
      "source": [
        "def is_divisible(num):\n",
        "  if ((num % 7) == 0 and (num % 9) == 0):\n",
        "    return True\n",
        "  return False\n",
        "\n",
        "for i in range(100, 1001):\n",
        "  if (is_divisible(i)):\n",
        "    print(i)\n"
      ],
      "metadata": {
        "colab": {
          "base_uri": "https://localhost:8080/"
        },
        "id": "QgDQe4j4_PbR",
        "outputId": "dc54dcde-92c6-45fa-cbca-9d1543d9dc4b"
      },
      "execution_count": null,
      "outputs": [
        {
          "output_type": "stream",
          "name": "stdout",
          "text": [
            "126\n",
            "189\n",
            "252\n",
            "315\n",
            "378\n",
            "441\n",
            "504\n",
            "567\n",
            "630\n",
            "693\n",
            "756\n",
            "819\n",
            "882\n",
            "945\n"
          ]
        }
      ]
    },
    {
      "cell_type": "markdown",
      "source": [
        "create two lists of 10 random numbers between 10 and 30\n",
        "and find common numbers in the two lists.\n",
        "\n",
        "\n",
        "\n"
      ],
      "metadata": {
        "id": "3YUS-VKIADo8"
      }
    },
    {
      "cell_type": "code",
      "source": [
        "import random as r\n",
        "\n",
        "L1 = r.sample(range(10, 30), 10)\n",
        "L2 = r.sample(range(10, 30), 10)\n",
        "\n",
        "print('L1->', L1)\n",
        "print('L2->', L2)\n",
        "\n",
        "print('\\nCommon numbers in the lists')\n",
        "\n",
        "for i in range(0, 10):\n",
        "  if L1[i] in L2:\n",
        "    print(L1[i])\n",
        "\n"
      ],
      "metadata": {
        "colab": {
          "base_uri": "https://localhost:8080/"
        },
        "id": "fcBcidjeAPJE",
        "outputId": "876406de-5f18-4a00-f23e-8be19cdd526a"
      },
      "execution_count": null,
      "outputs": [
        {
          "output_type": "stream",
          "name": "stdout",
          "text": [
            "L1-> [29, 25, 26, 22, 10, 21, 16, 19, 12, 14]\n",
            "L2-> [10, 16, 17, 29, 28, 25, 12, 26, 14, 18]\n",
            "\n",
            "Common numbers in the lists\n",
            "29\n",
            "25\n",
            "26\n",
            "10\n",
            "16\n",
            "12\n",
            "14\n"
          ]
        }
      ]
    },
    {
      "cell_type": "markdown",
      "source": [
        "unique in both the lists"
      ],
      "metadata": {
        "id": "11_AAf0od4Ls"
      }
    },
    {
      "cell_type": "code",
      "source": [
        "L11 = []\n",
        "L22 = []\n",
        "\n",
        "for i in range(0, 10):\n",
        "  if L1[i] not in L2:\n",
        "    L11.append(L1[i])\n",
        "\n",
        "  if L2[i] not in L1:\n",
        "    L22.append(L2[i])\n",
        "\n",
        "print('unique numbers in L1: ', L11)\n",
        "print('unique numbers in L2: ', L22)\n"
      ],
      "metadata": {
        "colab": {
          "base_uri": "https://localhost:8080/"
        },
        "id": "wehOqQutd74Z",
        "outputId": "0e1dd18b-6250-482e-d624-23b220876873"
      },
      "execution_count": null,
      "outputs": [
        {
          "output_type": "stream",
          "name": "stdout",
          "text": [
            "unique numbers in L1:  [22, 21, 19]\n",
            "unique numbers in L2:  [17, 28, 18]\n"
          ]
        }
      ]
    },
    {
      "cell_type": "markdown",
      "source": [
        "minimum in both the lists"
      ],
      "metadata": {
        "id": "qTMpAOm9dnQh"
      }
    },
    {
      "cell_type": "code",
      "source": [
        "print('L1->', L1)\n",
        "print('L2->', L2)\n",
        "if min(L1) <= min(L2):\n",
        "  print('minimum in both the lists is', min(L1))\n",
        "\n",
        "elif min(L1) > min(L2):\n",
        "  print('minimum in both the lists is', min(L2))"
      ],
      "metadata": {
        "colab": {
          "base_uri": "https://localhost:8080/"
        },
        "id": "6wLZweM5dgzQ",
        "outputId": "f6712e36-240c-476b-88c8-9fa98330580e"
      },
      "execution_count": null,
      "outputs": [
        {
          "output_type": "stream",
          "name": "stdout",
          "text": [
            "L1-> [29, 25, 26, 22, 10, 21, 16, 19, 12, 14]\n",
            "L2-> [10, 16, 17, 29, 28, 25, 12, 26, 14, 18]\n",
            "minimum in both the lists is 10\n"
          ]
        }
      ]
    },
    {
      "cell_type": "markdown",
      "source": [
        "maximum in both the lists"
      ],
      "metadata": {
        "id": "xT_nJ6RceWqg"
      }
    },
    {
      "cell_type": "code",
      "source": [
        "print('L1->', L1)\n",
        "print('L2->', L2)\n",
        "if max(L1) <= max(L2):\n",
        "  print('maximum in both the lists is', max(L1))\n",
        "\n",
        "elif max(L1) > max(L2):\n",
        "  print('maximum in both the lists is', max(L2))"
      ],
      "metadata": {
        "colab": {
          "base_uri": "https://localhost:8080/"
        },
        "id": "-8EZUwTIeZd_",
        "outputId": "e4483f28-b392-45c5-d20a-e93410d5787e"
      },
      "execution_count": null,
      "outputs": [
        {
          "output_type": "stream",
          "name": "stdout",
          "text": [
            "L1-> [29, 25, 26, 22, 10, 21, 16, 19, 12, 14]\n",
            "L2-> [10, 16, 17, 29, 28, 25, 12, 26, 14, 18]\n",
            "maximum in both the lists is 29\n"
          ]
        }
      ]
    },
    {
      "cell_type": "markdown",
      "source": [
        "sum of both the lists"
      ],
      "metadata": {
        "id": "p36WPnfLeoOS"
      }
    },
    {
      "cell_type": "code",
      "source": [
        "list_sum = sum(L1) + sum(L2)\n",
        "print(list_sum)"
      ],
      "metadata": {
        "colab": {
          "base_uri": "https://localhost:8080/"
        },
        "id": "7Pzhm1lHetqC",
        "outputId": "fdb50a9d-c95d-432b-b20b-e669c7a14563"
      },
      "execution_count": null,
      "outputs": [
        {
          "output_type": "stream",
          "name": "stdout",
          "text": [
            "389\n"
          ]
        }
      ]
    },
    {
      "cell_type": "markdown",
      "source": [
        "to create a list of 100 random numbers between 100 and 900 and give count of even, odd and prime numbers in the list."
      ],
      "metadata": {
        "id": "OhHpXipnfTR-"
      }
    },
    {
      "cell_type": "code",
      "source": [
        "import random as r\n",
        "\n",
        "L = r.sample(range(100, 900), 100)\n",
        "print('List: ', L)\n",
        "\n",
        "def is_prime(num):\n",
        "  if num<2:\n",
        "    return False\n",
        "\n",
        "  for i in range(2, int(num**0.5)+1):\n",
        "    if num%i == 0:\n",
        "      return False\n",
        "\n",
        "  return True\n",
        "\n",
        "\n",
        "Le = L\n",
        "Lo = []\n",
        "Lp = []\n",
        "\n",
        "\n",
        "for i in L:\n",
        "  if(is_prime(i)):\n",
        "    Lp.append(i)\n",
        "  if i%2 != 0:\n",
        "    Lo.append(i)\n",
        "    Le.remove(i)\n",
        "\n",
        "\n",
        "print('All odd numbers in List', Lo)\n",
        "print('count of odd numbers is ', len(Lo))\n",
        "print('All even numbers in List', Le)\n",
        "print('count of even numbers is ', len(Le))\n",
        "print('All prime numbers in List', Lp)\n",
        "print('count of prime numbers is ', len(Lp))"
      ],
      "metadata": {
        "colab": {
          "base_uri": "https://localhost:8080/"
        },
        "id": "lLEjUqLFfb-P",
        "outputId": "f1ebe7bf-f511-41e8-a56b-463286870bff"
      },
      "execution_count": null,
      "outputs": [
        {
          "output_type": "stream",
          "name": "stdout",
          "text": [
            "List:  [352, 124, 581, 668, 456, 760, 313, 331, 434, 103, 545, 894, 720, 800, 281, 397, 349, 539, 569, 776, 542, 135, 436, 682, 300, 189, 474, 620, 232, 373, 192, 330, 291, 396, 149, 308, 134, 372, 881, 176, 785, 655, 368, 492, 249, 148, 127, 839, 695, 142, 571, 415, 263, 169, 266, 193, 559, 382, 206, 708, 696, 336, 423, 616, 327, 408, 531, 674, 438, 551, 675, 640, 490, 160, 282, 514, 729, 427, 108, 692, 518, 183, 666, 556, 347, 568, 753, 546, 481, 461, 845, 566, 882, 833, 117, 680, 163, 155, 670, 194]\n",
            "All odd numbers in List [581, 313, 103, 281, 349, 569, 135, 189, 373, 291, 149, 881, 785, 249, 127, 695, 571, 263, 193, 423, 327, 531, 551, 729, 183, 347, 753, 481, 845, 833, 163]\n",
            "count of odd numbers is  31\n",
            "All even numbers in List [352, 124, 668, 456, 760, 331, 434, 545, 894, 720, 800, 397, 539, 776, 542, 436, 682, 300, 474, 620, 232, 192, 330, 396, 308, 134, 372, 176, 655, 368, 492, 148, 839, 142, 415, 169, 266, 559, 382, 206, 708, 696, 336, 616, 408, 674, 438, 675, 640, 490, 160, 282, 514, 427, 108, 692, 518, 666, 556, 568, 546, 461, 566, 882, 117, 680, 155, 670, 194]\n",
            "count of even numbers is  69\n",
            "All prime numbers in List [313, 103, 281, 349, 569, 373, 149, 881, 127, 571, 263, 193, 347, 163]\n",
            "count of prime numbers is  14\n"
          ]
        }
      ]
    },
    {
      "cell_type": "markdown",
      "source": [
        "Writing keys and values from a dictionary to a file"
      ],
      "metadata": {
        "id": "AITvKPkjofCN"
      }
    },
    {
      "cell_type": "code",
      "source": [
        "D ={\n",
        "    1: \"One\",\n",
        "    2: \"Two\",\n",
        "    3: \"Three\",\n",
        "    4: \"Four\",\n",
        "    5: \"Five\"\n",
        "}\n",
        "\n",
        "fp = open(\"numDictionary.txt\", 'w')\n",
        "for key, values in D.items():               #we use the items() method to iterate over both the keys and values of the dictionary. \n",
        "  fp.write(str(key) +\", \"+ values + \"\\n\") \n",
        "\n",
        "fp.close()"
      ],
      "metadata": {
        "id": "EOR_PO9xmCX6"
      },
      "execution_count": null,
      "outputs": []
    },
    {
      "cell_type": "markdown",
      "source": [
        "writing list elements into a file"
      ],
      "metadata": {
        "id": "9DMb5m2JpMao"
      }
    },
    {
      "cell_type": "code",
      "source": [
        "L = [\"One\", \"Two\", \"Three\", \"Four\", \"Five\"]\n",
        "\n",
        "fp = open(\"num_list.txt\", 'w')\n",
        "for i in L:\n",
        "  fp.write(i +\", \"+ str(len(i))+ \"\\n\")\n",
        "\n",
        "fp.close()"
      ],
      "metadata": {
        "id": "NLLmzPKUpRgN"
      },
      "execution_count": null,
      "outputs": []
    },
    {
      "cell_type": "markdown",
      "source": [
        "writing 100 random strings whose length is between 10 and 15 in a file"
      ],
      "metadata": {
        "id": "Dd4dHkhYrCve"
      }
    },
    {
      "cell_type": "code",
      "source": [
        "import random as r\n",
        "import string as s\n",
        "\n",
        "fp = open(\"StringFile.txt\", 'w')\n",
        "\n",
        "for i in range(1, 101):\n",
        "  length = r.randint(10, 15)\n",
        "  text = r.sample(s.ascii_letters, length)\n",
        "  text = \"\".join(text)\n",
        "  fp.write(text + \"\\n\")\n",
        "\n",
        "fp.close()\n",
        "  "
      ],
      "metadata": {
        "id": "mW1xywZpq_bB"
      },
      "execution_count": null,
      "outputs": []
    },
    {
      "cell_type": "markdown",
      "source": [
        "\n",
        "write all prime numbers between 600 and 800 to a file\n",
        "\n"
      ],
      "metadata": {
        "id": "TKc1vggKs8Vm"
      }
    },
    {
      "cell_type": "code",
      "source": [
        "fp = open(\"Prime.txt\", 'w')\n",
        "\n",
        "def is_prime(num):\n",
        "  if num<2:\n",
        "    return False\n",
        "\n",
        "  for i in range(2, int(num**0.5)+1):\n",
        "    if num%i == 0:\n",
        "      return False\n",
        "\n",
        "  return True\n",
        "\n",
        "\n",
        "for i in range(600, 801):\n",
        "  if (is_prime(i)):\n",
        "    fp.write(str(i) + \"\\n\")\n",
        "\n",
        "fp.close()"
      ],
      "metadata": {
        "id": "8eZ-PBJns89n"
      },
      "execution_count": null,
      "outputs": []
    },
    {
      "cell_type": "markdown",
      "source": [
        "calculate the time taken to complete a program"
      ],
      "metadata": {
        "id": "85QppKW1tyAr"
      }
    },
    {
      "cell_type": "code",
      "source": [
        "import time as t\n",
        "\n",
        "start_time = t.time()\n",
        "\n",
        "for x in range(6, 8):\n",
        "    if(x<5):\n",
        "      x += 1\n",
        "    else:\n",
        "      x -= 1\n",
        "\n",
        "end_time = t.time()\n",
        "\n",
        "elapsed_time = end_time - start_time\n",
        "print(\"Elapsed time: \", elapsed_time)"
      ],
      "metadata": {
        "id": "eTIq8Hzpt9QT",
        "colab": {
          "base_uri": "https://localhost:8080/"
        },
        "outputId": "352e2371-dc59-4f49-f7f9-ccc5fc4c49db"
      },
      "execution_count": null,
      "outputs": [
        {
          "output_type": "stream",
          "name": "stdout",
          "text": [
            "Elapsed time:  0.00015401840209960938\n"
          ]
        }
      ]
    },
    {
      "cell_type": "markdown",
      "source": [
        "program to calculate sorting time in a list of 5k elements"
      ],
      "metadata": {
        "id": "OckICsso2cHK"
      }
    },
    {
      "cell_type": "code",
      "source": [
        "import random as r\n",
        "import time as t\n",
        "import matplotlib.pyplot as plt\n",
        "\n",
        "def sort_time (L):\n",
        "  start_time = t.time()\n",
        "  L.sort()\n",
        "  end_time = t.time()\n",
        "  elapsed_time = end_time- start_time\n",
        "\n",
        "  return elapsed_time\n",
        "\n",
        "\n",
        "element_count = [5000, 10000, 15000, 20000, 25000]\n",
        "time_taken = []\n",
        "\n",
        "for i in element_count:\n",
        "  L = r.sample(range(i), i)\n",
        "  time_taken.append(sort_time(L))\n",
        "\n",
        "plt.plot(element_count, time_taken)\n",
        "plt.xlabel(\"list element count\")\n",
        "plt.ylabel(\"sorting time\") \n",
        "plt.title(\"Sorting Time vs List Size\")\n",
        "plt.show()\n"
      ],
      "metadata": {
        "colab": {
          "base_uri": "https://localhost:8080/",
          "height": 472
        },
        "id": "gF8OO4Vd2hEW",
        "outputId": "35556440-76a8-4f31-b342-bb54577acf46"
      },
      "execution_count": 4,
      "outputs": [
        {
          "output_type": "display_data",
          "data": {
            "text/plain": [
              "<Figure size 640x480 with 1 Axes>"
            ],
            "image/png": "[encoded data removed]"
          },
          "metadata": {}
        }
      ]
    },
    {
      "cell_type": "markdown",
      "source": [
        "Program to find minimum and maximum average marks of students in 5 subjects"
      ],
      "metadata": {
        "id": "9Dqj639kHfol"
      }
    },
    {
      "cell_type": "code",
      "source": [
        "marks = {\n",
        "    \"John\" : [12, 14, 11, 17, 12],\n",
        "    \"Mary\" : [15, 16, 14, 9, 11],\n",
        "    \"Karan\" : [10, 18, 12, 19, 10],\n",
        "    \"Lara\" : [9, 16, 17, 13, 11],\n",
        "    \"Rose\" : [16, 14, 10, 9, 17]\n",
        "}\n",
        "\n",
        "average_marks = {}\n",
        "\n",
        "for student, marks in marks.items():\n",
        "  average = sum(marks)/len(marks)\n",
        "  average_marks[student] = average\n",
        "  print(student+\"-> \"+str(average))\n",
        "\n",
        "max_student = max(average_marks, key = average_marks.get)\n",
        "min_student = min(average_marks, key = average_marks.get)\n",
        "\n",
        "print(max_student+\" with maximum average marks: \", average_marks[max_student])\n",
        "print(min_student+\" with minimum average marks: \", average_marks[min_student])"
      ],
      "metadata": {
        "colab": {
          "base_uri": "https://localhost:8080/"
        },
        "id": "AgtzbIPzHpXV",
        "outputId": "4f7dd17e-c364-4037-a459-f26405a5dcdc"
      },
      "execution_count": 21,
      "outputs": [
        {
          "output_type": "stream",
          "name": "stdout",
          "text": [
            "John-> 13.2\n",
            "Mary-> 13.0\n",
            "Karan-> 13.8\n",
            "Lara-> 13.2\n",
            "Rose-> 13.2\n",
            "Karan with maximum average marks:  13.8\n",
            "Mary with minimum average marks:  13.0\n"
          ]
        }
      ]
    }
  ]
}